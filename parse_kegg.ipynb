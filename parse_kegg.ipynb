{
 "cells": [
  {
   "cell_type": "code",
   "execution_count": 2,
   "metadata": {},
   "outputs": [],
   "source": [
    "import re"
   ]
  },
  {
   "cell_type": "code",
   "execution_count": 5,
   "metadata": {},
   "outputs": [],
   "source": [
    "rx_kegg = re.compile(r'(K\\d+)\\s+(.+)')"
   ]
  },
  {
   "cell_type": "code",
   "execution_count": 7,
   "metadata": {},
   "outputs": [],
   "source": [
    "content = \"kegg,description\\n\"\n",
    "\n",
    "for line in open(\"brite/brite_ko.txt\"):\n",
    "    search_kegg = rx_kegg.search(line)\n",
    "    \n",
    "    if search_kegg:\n",
    "        content += f'\"{search_kegg.group(1)}\",\"{search_kegg.group(2)}\"' + \"\\n\"\n",
    "\n"
   ]
  },
  {
   "cell_type": "code",
   "execution_count": 9,
   "metadata": {},
   "outputs": [],
   "source": [
    "with open(\"import/kegg.csv\", \"w\") as output:\n",
    "    output.write(content)"
   ]
  },
  {
   "cell_type": "code",
   "execution_count": null,
   "metadata": {},
   "outputs": [],
   "source": []
  }
 ],
 "metadata": {
  "kernelspec": {
   "display_name": "Python 3.9.12 ('base')",
   "language": "python",
   "name": "python3"
  },
  "language_info": {
   "codemirror_mode": {
    "name": "ipython",
    "version": 3
   },
   "file_extension": ".py",
   "mimetype": "text/x-python",
   "name": "python",
   "nbconvert_exporter": "python",
   "pygments_lexer": "ipython3",
   "version": "3.9.12"
  },
  "orig_nbformat": 4,
  "vscode": {
   "interpreter": {
    "hash": "2906174ea623f98bf0228f3e6b5461e1880ae5fa222a8c61228ae0439f209a69"
   }
  }
 },
 "nbformat": 4,
 "nbformat_minor": 2
}
