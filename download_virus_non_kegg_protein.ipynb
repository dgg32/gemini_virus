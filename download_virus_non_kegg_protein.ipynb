{
 "cells": [
  {
   "cell_type": "code",
   "execution_count": 1,
   "metadata": {},
   "outputs": [],
   "source": [
    "import requests\n",
    "import re\n",
    "\n",
    "\n",
    "import pandas as pd\n",
    "import numpy as np"
   ]
  },
  {
   "cell_type": "code",
   "execution_count": 2,
   "metadata": {},
   "outputs": [],
   "source": [
    "genome_prefix = \"https://rest.kegg.jp/get/gn:\""
   ]
  },
  {
   "cell_type": "code",
   "execution_count": 3,
   "metadata": {},
   "outputs": [],
   "source": [
    "rx_entry = re.compile(r'(\\d+)\\s+(.+)\\[TAX:(\\d+)\\]')\n",
    "\n",
    "rx_gene = re.compile(r'\\d+\\s+(.+)')"
   ]
  },
  {
   "cell_type": "code",
   "execution_count": 4,
   "metadata": {},
   "outputs": [],
   "source": [
    "with open(\"brite/brite_virus.txt\", \"r\") as input:\n",
    "    detail = input.readlines()"
   ]
  },
  {
   "cell_type": "code",
   "execution_count": 5,
   "metadata": {},
   "outputs": [
    {
     "name": "stdout",
     "output_type": "stream",
     "text": [
      "11487\n"
     ]
    }
   ],
   "source": [
    "taxid_done = set()\n",
    "\n",
    "with open(\"brite/taxon_protein.csv\", \"r\") as input:\n",
    "    for line in input.readlines():\n",
    "        fields = line.strip().split(\",\")\n",
    "\n",
    "        taxid_done.add(fields[0])\n",
    "\n",
    "print (len(taxid_done))\n",
    "\n",
    "taxid_gene = {}\n",
    "\n",
    "virus_type = \"\"\n",
    "\n",
    "\n",
    "for line in detail:\n",
    "    line = line.strip()\n",
    "        \n",
    "    search_entry = rx_entry.search(line)\n",
    "    #print (line)\n",
    "    if search_entry:\n",
    "        \n",
    "        taxid = search_entry.group(1)\n",
    "\n",
    "        if taxid not in taxid_done:\n",
    "\n",
    "            url = genome_prefix + f\"{taxid}\"\n",
    "\n",
    "            genome_detail = requests.get(url).text\n",
    "\n",
    "            is_gene = False\n",
    "\n",
    "            for line in genome_detail.split(\"\\n\"):\n",
    "                if line.startswith(\"GENE\"):\n",
    "                    is_gene = True\n",
    "                elif is_gene == True and not line.startswith(\" \"):\n",
    "                    is_gene = False\n",
    "                \n",
    "                #print (is_gene)\n",
    "                if is_gene == True:\n",
    "                    genes = re.findall(rx_gene, line)\n",
    "\n",
    "                    for g in genes:\n",
    "                        with open(\"brite/taxon_protein.csv\", \"a\") as output:\n",
    "                            output.write(f\"{taxid},{g}\\n\")"
   ]
  },
  {
   "cell_type": "code",
   "execution_count": null,
   "metadata": {},
   "outputs": [],
   "source": []
  }
 ],
 "metadata": {
  "kernelspec": {
   "display_name": "Python 3.9.12 ('base')",
   "language": "python",
   "name": "python3"
  },
  "language_info": {
   "codemirror_mode": {
    "name": "ipython",
    "version": 3
   },
   "file_extension": ".py",
   "mimetype": "text/x-python",
   "name": "python",
   "nbconvert_exporter": "python",
   "pygments_lexer": "ipython3",
   "version": "3.9.12"
  },
  "orig_nbformat": 4,
  "vscode": {
   "interpreter": {
    "hash": "2906174ea623f98bf0228f3e6b5461e1880ae5fa222a8c61228ae0439f209a69"
   }
  }
 },
 "nbformat": 4,
 "nbformat_minor": 2
}
