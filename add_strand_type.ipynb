{
 "cells": [
  {
   "cell_type": "code",
   "execution_count": 46,
   "metadata": {},
   "outputs": [],
   "source": [
    "from pyphy import pyphy\n",
    "import re\n",
    "import pandas as pd"
   ]
  },
  {
   "cell_type": "code",
   "execution_count": 47,
   "metadata": {},
   "outputs": [],
   "source": [
    "rx_entry = re.compile(r'(\\d+)\\s+(.+)\\[TAX:(\\d+)\\]')"
   ]
  },
  {
   "cell_type": "code",
   "execution_count": 48,
   "metadata": {},
   "outputs": [],
   "source": [
    "virus_strand = {}\n",
    "\n",
    "with open(\"brite/brite_virus.txt\", \"r\") as input:\n",
    "    strand = \"\"\n",
    "    for line in input:\n",
    "        #print (line.strip())\n",
    "\n",
    "        if line.startswith(\"A\"):\n",
    "            strand = line.replace(\"A\", \"\").strip()\n",
    "        elif line[0] in [\"#\", \"!\", \"+\"]:\n",
    "            pass\n",
    "        else:\n",
    "            search_entry = rx_entry.search(line)\n",
    "            if not search_entry:\n",
    "                line = line[1:].strip()\n",
    "                \n",
    "                if line not in virus_strand:\n",
    "                    virus_strand[line] = [strand]\n",
    "                else:\n",
    "                    virus_strand[line] += [strand]"
   ]
  },
  {
   "cell_type": "code",
   "execution_count": 49,
   "metadata": {},
   "outputs": [],
   "source": [
    "taxon = pd.read_csv(\"brite/import/taxon.csv\")"
   ]
  },
  {
   "cell_type": "code",
   "execution_count": 50,
   "metadata": {},
   "outputs": [
    {
     "data": {
      "text/plain": [
       "['genome',\n",
       " 'species',\n",
       " 'genus',\n",
       " 'family',\n",
       " 'order',\n",
       " 'class',\n",
       " 'phylum',\n",
       " 'clade',\n",
       " 'superkingdom']"
      ]
     },
     "execution_count": 50,
     "metadata": {},
     "output_type": "execute_result"
    }
   ],
   "source": [
    "desired_rank = [\"superkingdom\", \"clade\", \"phylum\", \"class\", \"order\", \"family\", \"genus\", \"species\", \"genome\"][::-1]\n",
    "\n",
    "desired_rank\n",
    "    "
   ]
  },
  {
   "cell_type": "code",
   "execution_count": 51,
   "metadata": {},
   "outputs": [],
   "source": [
    "content = \"type,taxid\\n\"\n",
    "for  index, line in taxon.iterrows():\n",
    "    taxid = line[\"taxid\"]\n",
    "\n",
    "    dict_path = pyphy.getDictPathByTaxid(taxid)\n",
    "\n",
    "    for rank in desired_rank:\n",
    "\n",
    "        if rank in dict_path:\n",
    "            taxon_name = pyphy.getNameByTaxid(dict_path[rank])\n",
    "            #print (taxon_name)\n",
    "            if taxon_name in virus_strand:\n",
    "                strand = virus_strand[taxon_name]\n",
    "                for s in strand:\n",
    "                    content += f'{s},{taxid}\\n'\n",
    "                #print (f'{taxid},{line[\"name\"]},{line[\"rank\"]},{strand}\\n')\n",
    "                break\n",
    "\n"
   ]
  },
  {
   "cell_type": "code",
   "execution_count": 52,
   "metadata": {},
   "outputs": [],
   "source": [
    "with open(\"brite/import/type_taxon_connections.csv\", \"w\") as output:\n",
    "    output.write(content)"
   ]
  },
  {
   "cell_type": "code",
   "execution_count": null,
   "metadata": {},
   "outputs": [],
   "source": []
  }
 ],
 "metadata": {
  "kernelspec": {
   "display_name": "Python 3.9.7 ('base')",
   "language": "python",
   "name": "python3"
  },
  "language_info": {
   "codemirror_mode": {
    "name": "ipython",
    "version": 3
   },
   "file_extension": ".py",
   "mimetype": "text/x-python",
   "name": "python",
   "nbconvert_exporter": "python",
   "pygments_lexer": "ipython3",
   "version": "3.9.7"
  },
  "orig_nbformat": 4,
  "vscode": {
   "interpreter": {
    "hash": "ad2bdc8ecc057115af97d19610ffacc2b4e99fae6737bb82f5d7fb13d2f2c186"
   }
  }
 },
 "nbformat": 4,
 "nbformat_minor": 2
}
