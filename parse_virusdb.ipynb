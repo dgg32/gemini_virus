{
 "cells": [
  {
   "cell_type": "code",
   "execution_count": 82,
   "metadata": {},
   "outputs": [],
   "source": [
    "import pandas as pd\n",
    "import numpy as np\n",
    "from pyphy import pyphy"
   ]
  },
  {
   "cell_type": "code",
   "execution_count": 68,
   "metadata": {},
   "outputs": [
    {
     "data": {
      "text/html": [
       "<div>\n",
       "<style scoped>\n",
       "    .dataframe tbody tr th:only-of-type {\n",
       "        vertical-align: middle;\n",
       "    }\n",
       "\n",
       "    .dataframe tbody tr th {\n",
       "        vertical-align: top;\n",
       "    }\n",
       "\n",
       "    .dataframe thead th {\n",
       "        text-align: right;\n",
       "    }\n",
       "</style>\n",
       "<table border=\"1\" class=\"dataframe\">\n",
       "  <thead>\n",
       "    <tr style=\"text-align: right;\">\n",
       "      <th></th>\n",
       "      <th>virus tax id</th>\n",
       "      <th>virus name</th>\n",
       "      <th>virus lineage</th>\n",
       "      <th>refseq id</th>\n",
       "      <th>KEGG GENOME</th>\n",
       "      <th>KEGG DISEASE</th>\n",
       "      <th>DISEASE</th>\n",
       "      <th>host tax id</th>\n",
       "      <th>host name</th>\n",
       "      <th>host lineage</th>\n",
       "      <th>pmid</th>\n",
       "      <th>evidence</th>\n",
       "      <th>sample type</th>\n",
       "      <th>source organism</th>\n",
       "    </tr>\n",
       "  </thead>\n",
       "  <tbody>\n",
       "    <tr>\n",
       "      <th>0</th>\n",
       "      <td>438782</td>\n",
       "      <td>Abaca bunchy top virus</td>\n",
       "      <td>Viruses; Monodnaviria; Shotokuvirae; Cressdnav...</td>\n",
       "      <td>NC_010314, NC_010315, NC_010316, NC_010317, NC...</td>\n",
       "      <td>NaN</td>\n",
       "      <td>NaN</td>\n",
       "      <td>NaN</td>\n",
       "      <td>214697.0</td>\n",
       "      <td>Musa acuminata AAA Group</td>\n",
       "      <td>Eukaryota; Viridiplantae; Streptophyta; Strept...</td>\n",
       "      <td>17978886</td>\n",
       "      <td>Literature</td>\n",
       "      <td>NaN</td>\n",
       "      <td>NaN</td>\n",
       "    </tr>\n",
       "    <tr>\n",
       "      <th>1</th>\n",
       "      <td>1241371</td>\n",
       "      <td>Abalone herpesvirus Victoria/AUS/2009</td>\n",
       "      <td>Viruses; Duplodnaviria; Heunggongvirae; Peplov...</td>\n",
       "      <td>NC_018874</td>\n",
       "      <td>NaN</td>\n",
       "      <td>NaN</td>\n",
       "      <td>NaN</td>\n",
       "      <td>36095.0</td>\n",
       "      <td>Haliotis diversicolor</td>\n",
       "      <td>Eukaryota; Opisthokonta; Metazoa; Eumetazoa; B...</td>\n",
       "      <td>28962967</td>\n",
       "      <td>Literature</td>\n",
       "      <td>NaN</td>\n",
       "      <td>NaN</td>\n",
       "    </tr>\n",
       "    <tr>\n",
       "      <th>2</th>\n",
       "      <td>491893</td>\n",
       "      <td>Abalone shriveling syndrome-associated virus</td>\n",
       "      <td>Viruses; Duplodnaviria; Heunggongvirae; Urovir...</td>\n",
       "      <td>NC_011646</td>\n",
       "      <td>NaN</td>\n",
       "      <td>NaN</td>\n",
       "      <td>NaN</td>\n",
       "      <td>37770.0</td>\n",
       "      <td>Haliotis diversicolor aquatilis</td>\n",
       "      <td>Eukaryota; Opisthokonta; Metazoa; Eumetazoa; B...</td>\n",
       "      <td>21079776</td>\n",
       "      <td>Literature, RefSeq</td>\n",
       "      <td>NaN</td>\n",
       "      <td>NaN</td>\n",
       "    </tr>\n",
       "    <tr>\n",
       "      <th>3</th>\n",
       "      <td>11788</td>\n",
       "      <td>Abelson murine leukemia virus</td>\n",
       "      <td>Viruses; Riboviria; Pararnavirae; Artvervirico...</td>\n",
       "      <td>NC_001499</td>\n",
       "      <td>NaN</td>\n",
       "      <td>NaN</td>\n",
       "      <td>NaN</td>\n",
       "      <td>10090.0</td>\n",
       "      <td>Mus musculus</td>\n",
       "      <td>Eukaryota; Opisthokonta; Metazoa; Eumetazoa; B...</td>\n",
       "      <td>6257398</td>\n",
       "      <td>Literature, UniProt</td>\n",
       "      <td>NaN</td>\n",
       "      <td>NaN</td>\n",
       "    </tr>\n",
       "    <tr>\n",
       "      <th>4</th>\n",
       "      <td>2025595</td>\n",
       "      <td>Abisko virus</td>\n",
       "      <td>Viruses; Riboviria; unclassified Riboviria</td>\n",
       "      <td>NC_035470</td>\n",
       "      <td>NaN</td>\n",
       "      <td>NaN</td>\n",
       "      <td>NaN</td>\n",
       "      <td>201501.0</td>\n",
       "      <td>Epirrita autumnata</td>\n",
       "      <td>Eukaryota; Opisthokonta; Metazoa; Eumetazoa; B...</td>\n",
       "      <td>NaN</td>\n",
       "      <td>Literature, NCBI Virus, RefSeq</td>\n",
       "      <td>NaN</td>\n",
       "      <td>NaN</td>\n",
       "    </tr>\n",
       "  </tbody>\n",
       "</table>\n",
       "</div>"
      ],
      "text/plain": [
       "   virus tax id                                    virus name  \\\n",
       "0        438782                        Abaca bunchy top virus   \n",
       "1       1241371         Abalone herpesvirus Victoria/AUS/2009   \n",
       "2        491893  Abalone shriveling syndrome-associated virus   \n",
       "3         11788                 Abelson murine leukemia virus   \n",
       "4       2025595                                  Abisko virus   \n",
       "\n",
       "                                       virus lineage  \\\n",
       "0  Viruses; Monodnaviria; Shotokuvirae; Cressdnav...   \n",
       "1  Viruses; Duplodnaviria; Heunggongvirae; Peplov...   \n",
       "2  Viruses; Duplodnaviria; Heunggongvirae; Urovir...   \n",
       "3  Viruses; Riboviria; Pararnavirae; Artvervirico...   \n",
       "4         Viruses; Riboviria; unclassified Riboviria   \n",
       "\n",
       "                                           refseq id KEGG GENOME KEGG DISEASE  \\\n",
       "0  NC_010314, NC_010315, NC_010316, NC_010317, NC...         NaN          NaN   \n",
       "1                                          NC_018874         NaN          NaN   \n",
       "2                                          NC_011646         NaN          NaN   \n",
       "3                                          NC_001499         NaN          NaN   \n",
       "4                                          NC_035470         NaN          NaN   \n",
       "\n",
       "  DISEASE  host tax id                        host name  \\\n",
       "0     NaN     214697.0         Musa acuminata AAA Group   \n",
       "1     NaN      36095.0            Haliotis diversicolor   \n",
       "2     NaN      37770.0  Haliotis diversicolor aquatilis   \n",
       "3     NaN      10090.0                     Mus musculus   \n",
       "4     NaN     201501.0               Epirrita autumnata   \n",
       "\n",
       "                                        host lineage      pmid  \\\n",
       "0  Eukaryota; Viridiplantae; Streptophyta; Strept...  17978886   \n",
       "1  Eukaryota; Opisthokonta; Metazoa; Eumetazoa; B...  28962967   \n",
       "2  Eukaryota; Opisthokonta; Metazoa; Eumetazoa; B...  21079776   \n",
       "3  Eukaryota; Opisthokonta; Metazoa; Eumetazoa; B...   6257398   \n",
       "4  Eukaryota; Opisthokonta; Metazoa; Eumetazoa; B...       NaN   \n",
       "\n",
       "                         evidence sample type  source organism  \n",
       "0                      Literature         NaN              NaN  \n",
       "1                      Literature         NaN              NaN  \n",
       "2              Literature, RefSeq         NaN              NaN  \n",
       "3             Literature, UniProt         NaN              NaN  \n",
       "4  Literature, NCBI Virus, RefSeq         NaN              NaN  "
      ]
     },
     "execution_count": 68,
     "metadata": {},
     "output_type": "execute_result"
    }
   ],
   "source": [
    "virushostdb = pd.read_csv('virushostdb/virushostdb.tsv', sep=\"\\t\")\n",
    "virushostdb.head()"
   ]
  },
  {
   "cell_type": "code",
   "execution_count": 69,
   "metadata": {},
   "outputs": [],
   "source": [
    "virus_host_connection = virushostdb[virushostdb[\"host tax id\"].notnull()][[\"virus tax id\", \"host tax id\"]]\n",
    "\n",
    "virus_host_connection[\"host tax id\"] = virus_host_connection[\"host tax id\"].astype(\"int32\")"
   ]
  },
  {
   "cell_type": "code",
   "execution_count": 70,
   "metadata": {},
   "outputs": [
    {
     "data": {
      "text/html": [
       "<div>\n",
       "<style scoped>\n",
       "    .dataframe tbody tr th:only-of-type {\n",
       "        vertical-align: middle;\n",
       "    }\n",
       "\n",
       "    .dataframe tbody tr th {\n",
       "        vertical-align: top;\n",
       "    }\n",
       "\n",
       "    .dataframe thead th {\n",
       "        text-align: right;\n",
       "    }\n",
       "</style>\n",
       "<table border=\"1\" class=\"dataframe\">\n",
       "  <thead>\n",
       "    <tr style=\"text-align: right;\">\n",
       "      <th></th>\n",
       "      <th>taxid</th>\n",
       "      <th>name</th>\n",
       "      <th>rank</th>\n",
       "    </tr>\n",
       "  </thead>\n",
       "  <tbody>\n",
       "    <tr>\n",
       "      <th>0</th>\n",
       "      <td>10239</td>\n",
       "      <td>Viruses</td>\n",
       "      <td>superkingdom</td>\n",
       "    </tr>\n",
       "    <tr>\n",
       "      <th>1</th>\n",
       "      <td>2559587</td>\n",
       "      <td>Riboviria</td>\n",
       "      <td>clade</td>\n",
       "    </tr>\n",
       "    <tr>\n",
       "      <th>2</th>\n",
       "      <td>2732409</td>\n",
       "      <td>Artverviricota</td>\n",
       "      <td>phylum</td>\n",
       "    </tr>\n",
       "    <tr>\n",
       "      <th>3</th>\n",
       "      <td>2732514</td>\n",
       "      <td>Revtraviricetes</td>\n",
       "      <td>class</td>\n",
       "    </tr>\n",
       "    <tr>\n",
       "      <th>4</th>\n",
       "      <td>2732515</td>\n",
       "      <td>Blubervirales</td>\n",
       "      <td>order</td>\n",
       "    </tr>\n",
       "  </tbody>\n",
       "</table>\n",
       "</div>"
      ],
      "text/plain": [
       "     taxid             name          rank\n",
       "0    10239          Viruses  superkingdom\n",
       "1  2559587        Riboviria         clade\n",
       "2  2732409   Artverviricota        phylum\n",
       "3  2732514  Revtraviricetes         class\n",
       "4  2732515    Blubervirales         order"
      ]
     },
     "execution_count": 70,
     "metadata": {},
     "output_type": "execute_result"
    }
   ],
   "source": [
    "taxon = pd.read_csv(\"import/taxon.csv\")\n",
    "\n",
    "taxon.head()"
   ]
  },
  {
   "cell_type": "code",
   "execution_count": 71,
   "metadata": {},
   "outputs": [
    {
     "data": {
      "text/plain": [
       "0"
      ]
     },
     "execution_count": 71,
     "metadata": {},
     "output_type": "execute_result"
    }
   ],
   "source": [
    "len(virus_host_connection[~virus_host_connection[\"virus tax id\"].isin(taxon[\"taxid\"].unique())][\"virus tax id\"].unique())"
   ]
  },
  {
   "cell_type": "code",
   "execution_count": 72,
   "metadata": {},
   "outputs": [
    {
     "data": {
      "text/plain": [
       "18123"
      ]
     },
     "execution_count": 72,
     "metadata": {},
     "output_type": "execute_result"
    }
   ],
   "source": [
    "len(virus_host_connection)"
   ]
  },
  {
   "cell_type": "code",
   "execution_count": 73,
   "metadata": {},
   "outputs": [],
   "source": [
    "virus_host_connection.to_csv(\"import/virus_host_connection.csv\", index=False)"
   ]
  },
  {
   "cell_type": "code",
   "execution_count": 74,
   "metadata": {},
   "outputs": [
    {
     "data": {
      "text/html": [
       "<div>\n",
       "<style scoped>\n",
       "    .dataframe tbody tr th:only-of-type {\n",
       "        vertical-align: middle;\n",
       "    }\n",
       "\n",
       "    .dataframe tbody tr th {\n",
       "        vertical-align: top;\n",
       "    }\n",
       "\n",
       "    .dataframe thead th {\n",
       "        text-align: right;\n",
       "    }\n",
       "</style>\n",
       "<table border=\"1\" class=\"dataframe\">\n",
       "  <thead>\n",
       "    <tr style=\"text-align: right;\">\n",
       "      <th></th>\n",
       "      <th>virus tax id</th>\n",
       "      <th>host tax id</th>\n",
       "    </tr>\n",
       "  </thead>\n",
       "  <tbody>\n",
       "    <tr>\n",
       "      <th>0</th>\n",
       "      <td>438782</td>\n",
       "      <td>214697</td>\n",
       "    </tr>\n",
       "    <tr>\n",
       "      <th>1</th>\n",
       "      <td>1241371</td>\n",
       "      <td>36095</td>\n",
       "    </tr>\n",
       "    <tr>\n",
       "      <th>2</th>\n",
       "      <td>491893</td>\n",
       "      <td>37770</td>\n",
       "    </tr>\n",
       "    <tr>\n",
       "      <th>3</th>\n",
       "      <td>11788</td>\n",
       "      <td>10090</td>\n",
       "    </tr>\n",
       "    <tr>\n",
       "      <th>4</th>\n",
       "      <td>2025595</td>\n",
       "      <td>201501</td>\n",
       "    </tr>\n",
       "  </tbody>\n",
       "</table>\n",
       "</div>"
      ],
      "text/plain": [
       "   virus tax id  host tax id\n",
       "0        438782       214697\n",
       "1       1241371        36095\n",
       "2        491893        37770\n",
       "3         11788        10090\n",
       "4       2025595       201501"
      ]
     },
     "execution_count": 74,
     "metadata": {},
     "output_type": "execute_result"
    }
   ],
   "source": [
    "virus_host_connection.head()"
   ]
  },
  {
   "cell_type": "code",
   "execution_count": 76,
   "metadata": {},
   "outputs": [
    {
     "data": {
      "text/plain": [
       "array([  10239, 2559587, 2732409, ..., 1176434, 1176764, 1176765],\n",
       "      dtype=int64)"
      ]
     },
     "execution_count": 76,
     "metadata": {},
     "output_type": "execute_result"
    }
   ],
   "source": [
    "taxon[\"taxid\"].unique()"
   ]
  },
  {
   "cell_type": "code",
   "execution_count": 79,
   "metadata": {},
   "outputs": [
    {
     "data": {
      "text/html": [
       "<div>\n",
       "<style scoped>\n",
       "    .dataframe tbody tr th:only-of-type {\n",
       "        vertical-align: middle;\n",
       "    }\n",
       "\n",
       "    .dataframe tbody tr th {\n",
       "        vertical-align: top;\n",
       "    }\n",
       "\n",
       "    .dataframe thead th {\n",
       "        text-align: right;\n",
       "    }\n",
       "</style>\n",
       "<table border=\"1\" class=\"dataframe\">\n",
       "  <thead>\n",
       "    <tr style=\"text-align: right;\">\n",
       "      <th></th>\n",
       "      <th>virus tax id</th>\n",
       "      <th>host tax id</th>\n",
       "    </tr>\n",
       "  </thead>\n",
       "  <tbody>\n",
       "    <tr>\n",
       "      <th>0</th>\n",
       "      <td>438782</td>\n",
       "      <td>214697</td>\n",
       "    </tr>\n",
       "    <tr>\n",
       "      <th>1</th>\n",
       "      <td>1241371</td>\n",
       "      <td>36095</td>\n",
       "    </tr>\n",
       "    <tr>\n",
       "      <th>2</th>\n",
       "      <td>491893</td>\n",
       "      <td>37770</td>\n",
       "    </tr>\n",
       "    <tr>\n",
       "      <th>3</th>\n",
       "      <td>11788</td>\n",
       "      <td>10090</td>\n",
       "    </tr>\n",
       "    <tr>\n",
       "      <th>4</th>\n",
       "      <td>2025595</td>\n",
       "      <td>201501</td>\n",
       "    </tr>\n",
       "    <tr>\n",
       "      <th>...</th>\n",
       "      <td>...</td>\n",
       "      <td>...</td>\n",
       "    </tr>\n",
       "    <tr>\n",
       "      <th>18120</th>\n",
       "      <td>12232</td>\n",
       "      <td>3663</td>\n",
       "    </tr>\n",
       "    <tr>\n",
       "      <th>18121</th>\n",
       "      <td>12232</td>\n",
       "      <td>3670</td>\n",
       "    </tr>\n",
       "    <tr>\n",
       "      <th>18122</th>\n",
       "      <td>253701</td>\n",
       "      <td>3594</td>\n",
       "    </tr>\n",
       "    <tr>\n",
       "      <th>18123</th>\n",
       "      <td>114871</td>\n",
       "      <td>4932</td>\n",
       "    </tr>\n",
       "    <tr>\n",
       "      <th>18124</th>\n",
       "      <td>114871</td>\n",
       "      <td>4954</td>\n",
       "    </tr>\n",
       "  </tbody>\n",
       "</table>\n",
       "<p>17974 rows × 2 columns</p>\n",
       "</div>"
      ],
      "text/plain": [
       "       virus tax id  host tax id\n",
       "0            438782       214697\n",
       "1           1241371        36095\n",
       "2            491893        37770\n",
       "3             11788        10090\n",
       "4           2025595       201501\n",
       "...             ...          ...\n",
       "18120         12232         3663\n",
       "18121         12232         3670\n",
       "18122        253701         3594\n",
       "18123        114871         4932\n",
       "18124        114871         4954\n",
       "\n",
       "[17974 rows x 2 columns]"
      ]
     },
     "execution_count": 79,
     "metadata": {},
     "output_type": "execute_result"
    }
   ],
   "source": [
    "virus_host_connection[~virus_host_connection[\"host tax id\"].isin(taxon[\"taxid\"].unique())]"
   ]
  },
  {
   "cell_type": "code",
   "execution_count": 83,
   "metadata": {},
   "outputs": [],
   "source": [
    "desired_rank = [\"superkingdom\", \"clade\", \"phylum\", \"class\", \"order\", \"family\", \"genus\", \"species\", \"genome\"]\n",
    "\n",
    "parent_son = set()\n",
    "\n",
    "taxid_taxon = {}\n",
    "\n",
    "for taxid in virus_host_connection[~virus_host_connection[\"host tax id\"].isin(taxon[\"taxid\"].unique())][\"host tax id\"].unique():\n",
    "    \n",
    "    dict_path = pyphy.getDictPathByTaxid(taxid)\n",
    "    dict_path[\"genome\"] = taxid\n",
    "    quartett = [\"\"] * 2\n",
    "    for rank in desired_rank:\n",
    "        if rank in dict_path:\n",
    "            \n",
    "            name = pyphy.getNameByTaxid(dict_path[rank])\n",
    "\n",
    "            if rank == \"superkingdom\":\n",
    "\n",
    "                quartett[0] = dict_path[rank]\n",
    "\n",
    "                if dict_path[rank] not in taxid_taxon:\n",
    "                    taxid_taxon[dict_path[rank]] = [name, rank]\n",
    "            else:\n",
    "                quartett[1] = dict_path[rank]\n",
    "\n",
    "                if quartett[0] != quartett[1]:\n",
    "                    parent_son.add(tuple(quartett))\n",
    "\n",
    "                    if dict_path[rank] not in taxid_taxon:\n",
    "                        taxid_taxon[dict_path[rank]] = [name, rank]\n",
    "\n",
    "                    quartett[0] = quartett[1]"
   ]
  },
  {
   "cell_type": "code",
   "execution_count": 84,
   "metadata": {},
   "outputs": [],
   "source": [
    "with open(\"import/host_taxon.csv\", \"w\") as output:\n",
    "    output.write(\",\".join([\"taxid\", \"name\", \"rank\"]) + \"\\n\")\n",
    "\n",
    "for taxid in taxid_taxon:\n",
    "    with open(\"import/host_taxon.csv\", \"a\") as output:\n",
    "        output.write(\",\".join([f'\"{taxid}\"', f'\"{taxid_taxon[taxid][0]}\"', f'\"{taxid_taxon[taxid][1]}\"']) + \"\\n\")"
   ]
  },
  {
   "cell_type": "code",
   "execution_count": 85,
   "metadata": {},
   "outputs": [],
   "source": [
    "with open(\"import/host_taxon_connections.csv\", \"w\") as output:\n",
    "    output.write(\",\".join([\"from\", \"to\"]) + \"\\n\")\n",
    "\n",
    "for parent in parent_son:\n",
    "    with open(\"import/host_taxon_connections.csv\", \"a\") as output:\n",
    "        #[\"~id\", \"~from\", \"~to\", \"~label\"]\n",
    "        output.write(\",\".join([f'\"{parent[0]}\"', f'\"{parent[1]}\"']) + \"\\n\")"
   ]
  },
  {
   "cell_type": "code",
   "execution_count": null,
   "metadata": {},
   "outputs": [],
   "source": []
  }
 ],
 "metadata": {
  "kernelspec": {
   "display_name": "Python 3.9.7 ('base')",
   "language": "python",
   "name": "python3"
  },
  "language_info": {
   "codemirror_mode": {
    "name": "ipython",
    "version": 3
   },
   "file_extension": ".py",
   "mimetype": "text/x-python",
   "name": "python",
   "nbconvert_exporter": "python",
   "pygments_lexer": "ipython3",
   "version": "3.9.7"
  },
  "orig_nbformat": 4,
  "vscode": {
   "interpreter": {
    "hash": "ad2bdc8ecc057115af97d19610ffacc2b4e99fae6737bb82f5d7fb13d2f2c186"
   }
  }
 },
 "nbformat": 4,
 "nbformat_minor": 2
}
